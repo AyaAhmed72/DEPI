{
 "cells": [
  {
   "cell_type": "markdown",
   "id": "e1aa6fd3",
   "metadata": {},
   "source": [
    "# Python Sessions with DEPI - Session 1"
   ]
  },
  {
   "cell_type": "markdown",
   "id": "27007459",
   "metadata": {},
   "source": [
    "### Print a message onto the screen:"
   ]
  },
  {
   "cell_type": "code",
   "execution_count": 1,
   "id": "6ea9a412",
   "metadata": {
    "tags": []
   },
   "outputs": [
    {
     "name": "stdout",
     "output_type": "stream",
     "text": [
      "Aya Ahmed\n"
     ]
    }
   ],
   "source": [
    "# Using double quotes\n",
    "print('Aya Ahmed')"
   ]
  },
  {
   "cell_type": "code",
   "execution_count": 2,
   "id": "c3fdc672",
   "metadata": {
    "tags": []
   },
   "outputs": [
    {
     "name": "stdout",
     "output_type": "stream",
     "text": [
      "Aya Ahmed\n"
     ]
    }
   ],
   "source": [
    "# Using single quotes\n",
    "print(\"Aya Ahmed\")"
   ]
  },
  {
   "cell_type": "code",
   "execution_count": 4,
   "id": "ffa3ee4d",
   "metadata": {
    "jupyter": {
     "outputs_hidden": true
    },
    "tags": []
   },
   "outputs": [
    {
     "name": "stdout",
     "output_type": "stream",
     "text": [
      "AYA\n"
     ]
    }
   ],
   "source": [
    "# Try printing your name\n",
    "print(\"AYA\")"
   ]
  },
  {
   "cell_type": "code",
   "execution_count": 6,
   "id": "9057c493",
   "metadata": {
    "tags": []
   },
   "outputs": [
    {
     "ename": "SyntaxError",
     "evalue": "unterminated string literal (detected at line 2) (759537218.py, line 2)",
     "output_type": "error",
     "traceback": [
      "\u001b[1;36m  Cell \u001b[1;32mIn[6], line 2\u001b[1;36m\u001b[0m\n\u001b[1;33m    print('let's start')\u001b[0m\n\u001b[1;37m                      ^\u001b[0m\n\u001b[1;31mSyntaxError\u001b[0m\u001b[1;31m:\u001b[0m unterminated string literal (detected at line 2)\n"
     ]
    }
   ],
   "source": [
    "# What is the output?\n",
    "print('let's start')\n"
   ]
  },
  {
   "cell_type": "markdown",
   "id": "f5c15167",
   "metadata": {},
   "source": [
    "Single and duble quotes do the same job but in case you are printing a string with upstroph you should use the duble quotes like the code below "
   ]
  },
  {
   "cell_type": "code",
   "execution_count": 7,
   "id": "e2da4028",
   "metadata": {
    "tags": []
   },
   "outputs": [
    {
     "name": "stdout",
     "output_type": "stream",
     "text": [
      "let's start\n"
     ]
    }
   ],
   "source": [
    "# Single quote inside double quotes\n",
    "print(\"let's start\")"
   ]
  },
  {
   "cell_type": "markdown",
   "id": "2bc9cf57",
   "metadata": {},
   "source": [
    "If you want to print a long string (in multiple lines) you should use the triple quotes \n"
   ]
  },
  {
   "cell_type": "code",
   "execution_count": 11,
   "id": "87b68498",
   "metadata": {
    "tags": []
   },
   "outputs": [
    {
     "name": "stdout",
     "output_type": "stream",
     "text": [
      "Aya,\n",
      "Ahmed,\n",
      "Ali\n"
     ]
    }
   ],
   "source": [
    "# Multi-line string\n",
    "print('''Aya,\n",
    "Ahmed,\n",
    "Ali''')\n"
   ]
  },
  {
   "cell_type": "code",
   "execution_count": 12,
   "id": "f79bf3c2-f192-4305-ae1a-7a36bd304526",
   "metadata": {
    "tags": []
   },
   "outputs": [
    {
     "name": "stdout",
     "output_type": "stream",
     "text": [
      "1000\n"
     ]
    }
   ],
   "source": [
    "# Try printing 1000\n",
    "print(1000)"
   ]
  },
  {
   "cell_type": "code",
   "execution_count": 13,
   "id": "f4e58402-2104-4f8f-9698-5de54c94280b",
   "metadata": {
    "tags": []
   },
   "outputs": [
    {
     "name": "stdout",
     "output_type": "stream",
     "text": [
      "1000\n"
     ]
    }
   ],
   "source": [
    "print(\"1000\")"
   ]
  },
  {
   "cell_type": "markdown",
   "id": "7ed15638",
   "metadata": {},
   "source": [
    "### Variables and Simple Data Types\n",
    "Variables are containers for storing data values, Python has no command for declaring a variable, a variable is created the moment you first assign a value to it.\n"
   ]
  },
  {
   "cell_type": "code",
   "execution_count": 14,
   "id": "2fb912ab",
   "metadata": {
    "tags": []
   },
   "outputs": [
    {
     "name": "stdout",
     "output_type": "stream",
     "text": [
      "5\n",
      "John\n"
     ]
    }
   ],
   "source": [
    "x = 5\n",
    "y = \"John\"\n",
    "print(x)\n",
    "print(y)"
   ]
  },
  {
   "cell_type": "code",
   "execution_count": 15,
   "id": "af5ed9f9",
   "metadata": {},
   "outputs": [
    {
     "name": "stdout",
     "output_type": "stream",
     "text": [
      "John\n"
     ]
    }
   ],
   "source": [
    "# Try printing \"y\"\n",
    "print(y)"
   ]
  },
  {
   "cell_type": "code",
   "execution_count": 16,
   "id": "0fc0477f-f1dc-4b4f-a0f6-c8ab819b0ed4",
   "metadata": {
    "collapsed": true,
    "tags": []
   },
   "outputs": [
    {
     "name": "stdout",
     "output_type": "stream",
     "text": [
      "5\n"
     ]
    }
   ],
   "source": [
    "# Try printing x\n",
    "print(x)"
   ]
  },
  {
   "cell_type": "markdown",
   "id": "70e73647",
   "metadata": {},
   "source": [
    "Variables do not need to be declared with any particular type (Dynamically Typed), and can even change type after they have been set."
   ]
  },
  {
   "cell_type": "code",
   "execution_count": null,
   "id": "64677d73",
   "metadata": {
    "tags": []
   },
   "outputs": [
    {
     "name": "stdout",
     "output_type": "stream",
     "text": [
      "Sally\n"
     ]
    }
   ],
   "source": [
    "# Guess the output\n",
    "x = 4       # x is of type int\n",
    "x = \"Sally\" # x is now of type str\n",
    "print(x) #-->overwrite"
   ]
  },
  {
   "cell_type": "code",
   "execution_count": 18,
   "id": "57413b70-4601-4681-b731-f4eb3e4fb77d",
   "metadata": {
    "tags": []
   },
   "outputs": [
    {
     "name": "stdout",
     "output_type": "stream",
     "text": [
      "30\n"
     ]
    }
   ],
   "source": [
    "# Guess the output\n",
    "y = 10\n",
    "y = 20\n",
    "y = 30\n",
    "print(y) #30"
   ]
  },
  {
   "cell_type": "markdown",
   "id": "ae2c669f",
   "metadata": {},
   "source": [
    "### Variable Names\n",
    "A variable can have a short name (like x and y) or a more descriptive name (age, carname, total_volume). \n",
    "\n",
    "#### Rules for Python variables:\n",
    "* A variable name must start with a letter or the underscore character\n",
    "* A variable name cannot start with a number\n",
    "* A variable name can only contain alpha-numeric characters and underscores (A-z, 0-9, and _ )\n",
    "* Variable names are case-sensitive (age, Age and AGE are three different variables)\n"
   ]
  },
  {
   "cell_type": "code",
   "execution_count": null,
   "id": "753603eb",
   "metadata": {
    "jupyter": {
     "outputs_hidden": true
    }
   },
   "outputs": [],
   "source": [
    "#Legal variable names:\n",
    "\n",
    "Age1\n",
    "age_min\n",
    "Age\n",
    "\n",
    "\n",
    "\n",
    "#Illegal variable names:\n",
    "\n",
    "1aya\n",
    "aya^a%\n"
   ]
  },
  {
   "cell_type": "markdown",
   "id": "61809d62",
   "metadata": {},
   "source": [
    "Avoiding Name Errors When Using Variables\n",
    "\n",
    "You should write the variable name without any mistakes \n"
   ]
  },
  {
   "cell_type": "code",
   "execution_count": 19,
   "id": "c5cf52d8",
   "metadata": {
    "tags": []
   },
   "outputs": [
    {
     "name": "stdout",
     "output_type": "stream",
     "text": [
      "Hello Python\n"
     ]
    }
   ],
   "source": [
    "# What is the output?\n",
    "message = \"Hello Python\"\n",
    "print(message)"
   ]
  },
  {
   "cell_type": "markdown",
   "id": "fa6f8907",
   "metadata": {},
   "source": [
    "### Data Types - Strings\n",
    "A string is a series of characters. Anything inside quotes is considered a string in Python, and you can use single or double quotes around your strings\n"
   ]
  },
  {
   "cell_type": "code",
   "execution_count": 20,
   "id": "9a2b849e",
   "metadata": {
    "collapsed": true,
    "tags": []
   },
   "outputs": [],
   "source": [
    "name = \"Ali\""
   ]
  },
  {
   "cell_type": "markdown",
   "id": "87a0356d",
   "metadata": {},
   "source": [
    "Changing Case in a String with Methods"
   ]
  },
  {
   "cell_type": "code",
   "execution_count": 22,
   "id": "a44d9a18",
   "metadata": {
    "tags": []
   },
   "outputs": [
    {
     "data": {
      "text/plain": [
       "'ALI'"
      ]
     },
     "execution_count": 22,
     "metadata": {},
     "output_type": "execute_result"
    }
   ],
   "source": [
    "# Try using .upper() and .lower() methods\n",
    "\n",
    "name=name.upper()\n",
    "name"
   ]
  },
  {
   "cell_type": "code",
   "execution_count": null,
   "id": "e2457117",
   "metadata": {
    "tags": []
   },
   "outputs": [
    {
     "name": "stdout",
     "output_type": "stream",
     "text": [
      "Mahmoud\n",
      "Ali\n"
     ]
    }
   ],
   "source": [
    "# Can we print 2 variables using 1 print statement?\n",
    "first_name = \"Mahmoud\"\n",
    "last_name = \"Ali\"\n",
    "print(first_name + \"\\n\" + last_name)\n"
   ]
  },
  {
   "cell_type": "markdown",
   "id": "6046562a",
   "metadata": {},
   "source": [
    "To add a tab to your text, use the character combination \\t as shown  "
   ]
  },
  {
   "cell_type": "code",
   "execution_count": null,
   "id": "e27c9b5a",
   "metadata": {
    "tags": []
   },
   "outputs": [
    {
     "name": "stdout",
     "output_type": "stream",
     "text": [
      "\tPython\n"
     ]
    }
   ],
   "source": [
    "# What is the output?\n",
    "print(\"\\tPython\") #-->tab"
   ]
  },
  {
   "cell_type": "markdown",
   "id": "57095ffe",
   "metadata": {},
   "source": [
    "<code>\\n</code> means new line"
   ]
  },
  {
   "cell_type": "code",
   "execution_count": 28,
   "id": "9440f87f",
   "metadata": {
    "tags": []
   },
   "outputs": [
    {
     "name": "stdout",
     "output_type": "stream",
     "text": [
      "Languages:\n",
      "Python\n",
      "C\n",
      "JavaScript\n"
     ]
    }
   ],
   "source": [
    "# What is the output? n new line\n",
    "print(\"Languages:\\nPython\\nC\\nJavaScript\")"
   ]
  },
  {
   "cell_type": "markdown",
   "id": "0f358a5c",
   "metadata": {},
   "source": [
    "String concatenation"
   ]
  },
  {
   "cell_type": "code",
   "execution_count": 29,
   "id": "23519c1b",
   "metadata": {
    "tags": []
   },
   "outputs": [
    {
     "name": "stdout",
     "output_type": "stream",
     "text": [
      "mahmoudhassan\n"
     ]
    }
   ],
   "source": [
    "# What is the output?\n",
    "print('mahmoud' + 'hassan')"
   ]
  },
  {
   "cell_type": "code",
   "execution_count": 30,
   "id": "aadcea46",
   "metadata": {
    "tags": []
   },
   "outputs": [
    {
     "name": "stdout",
     "output_type": "stream",
     "text": [
      "101\n"
     ]
    }
   ],
   "source": [
    "# What is the output?\n",
    "print(\"10\" + \"1\")"
   ]
  },
  {
   "cell_type": "markdown",
   "id": "f904bb9c",
   "metadata": {},
   "source": [
    "### Fstring"
   ]
  },
  {
   "cell_type": "code",
   "execution_count": 31,
   "id": "7f29718a",
   "metadata": {
    "tags": []
   },
   "outputs": [],
   "source": [
    "first_name = \"mahmoud\"\n",
    "last_name = \"hassan\"\n",
    "\n",
    "\n",
    "\n"
   ]
  },
  {
   "cell_type": "markdown",
   "id": "4faa03be",
   "metadata": {},
   "source": [
    "### Data Types - Numbers"
   ]
  },
  {
   "cell_type": "markdown",
   "id": "041547e7",
   "metadata": {},
   "source": [
    "#### Integers"
   ]
  },
  {
   "cell_type": "code",
   "execution_count": null,
   "id": "95c890cf",
   "metadata": {
    "collapsed": true,
    "tags": []
   },
   "outputs": [],
   "source": []
  },
  {
   "cell_type": "markdown",
   "id": "2b897454",
   "metadata": {},
   "source": [
    "#### Floats\n",
    "Python calls any number with a decimal point a float"
   ]
  },
  {
   "cell_type": "code",
   "execution_count": null,
   "id": "ce3e4a37",
   "metadata": {
    "collapsed": true,
    "tags": []
   },
   "outputs": [],
   "source": []
  },
  {
   "cell_type": "code",
   "execution_count": null,
   "id": "0c602f16",
   "metadata": {
    "tags": []
   },
   "outputs": [],
   "source": [
    "# Some arithmatic operations applied on integers\n",
    "\n",
    "\n",
    "\n"
   ]
  },
  {
   "cell_type": "code",
   "execution_count": 32,
   "id": "64342933",
   "metadata": {
    "tags": []
   },
   "outputs": [
    {
     "name": "stdout",
     "output_type": "stream",
     "text": [
      "12\n"
     ]
    }
   ],
   "source": [
    "# What is the output?\n",
    "print((1+2)*4)"
   ]
  },
  {
   "cell_type": "code",
   "execution_count": 33,
   "id": "3040e7b4-1c49-4136-9ff7-b66d880a9158",
   "metadata": {
    "tags": []
   },
   "outputs": [
    {
     "name": "stdout",
     "output_type": "stream",
     "text": [
      "100.5\n"
     ]
    }
   ],
   "source": [
    "# What is the output?\n",
    "print(100 + 0.5)"
   ]
  },
  {
   "cell_type": "markdown",
   "id": "12a7d140",
   "metadata": {},
   "source": [
    "**Try It Yourself**\n",
    "Write addition, subtraction, multiplication, and division operations that each result in the number 8. \n",
    "Be sure to enclose your operations in print() calls to see the results. You should create four lines that look like this: print(5+3)\n"
   ]
  },
  {
   "cell_type": "code",
   "execution_count": 35,
   "id": "094098ee",
   "metadata": {},
   "outputs": [
    {
     "name": "stdout",
     "output_type": "stream",
     "text": [
      "8\n"
     ]
    }
   ],
   "source": [
    "print(2*4)"
   ]
  },
  {
   "cell_type": "code",
   "execution_count": null,
   "id": "9df53d7c",
   "metadata": {},
   "outputs": [
    {
     "name": "stdout",
     "output_type": "stream",
     "text": [
      "8\n"
     ]
    }
   ],
   "source": [
    "print(2**3) #** ==^"
   ]
  },
  {
   "cell_type": "code",
   "execution_count": 37,
   "id": "7440ec51",
   "metadata": {},
   "outputs": [
    {
     "name": "stdout",
     "output_type": "stream",
     "text": [
      "8\n"
     ]
    }
   ],
   "source": [
    "print(3+5)"
   ]
  },
  {
   "cell_type": "code",
   "execution_count": 38,
   "id": "86bd238a",
   "metadata": {},
   "outputs": [
    {
     "name": "stdout",
     "output_type": "stream",
     "text": [
      "8\n"
     ]
    }
   ],
   "source": [
    "print(8-0)"
   ]
  },
  {
   "cell_type": "markdown",
   "id": "f7c1f9eb",
   "metadata": {},
   "source": [
    "When you divide any two numbers, even if they are integers that result in a\n",
    "whole number, you’ll always get a float:\n",
    "4/2 ⇒ 2.0\n"
   ]
  },
  {
   "cell_type": "code",
   "execution_count": 40,
   "id": "2dcf1ff9",
   "metadata": {
    "tags": []
   },
   "outputs": [
    {
     "data": {
      "text/plain": [
       "2.0"
      ]
     },
     "execution_count": 40,
     "metadata": {},
     "output_type": "execute_result"
    }
   ],
   "source": [
    "4/2"
   ]
  },
  {
   "cell_type": "code",
   "execution_count": 41,
   "id": "63f21963",
   "metadata": {
    "tags": []
   },
   "outputs": [
    {
     "data": {
      "text/plain": [
       "3.0"
      ]
     },
     "execution_count": 41,
     "metadata": {},
     "output_type": "execute_result"
    }
   ],
   "source": [
    "1 + 2.0"
   ]
  },
  {
   "cell_type": "markdown",
   "id": "dde2cfda",
   "metadata": {},
   "source": [
    "Multiple Assignment\n",
    "You can assign values to more than one variable using just a single line. This can help shorten your programs and make them easier to read; you’ll use this technique most often when initializing a set of numbers. For example, here’s how you can initialize the variables x, y, and z\n"
   ]
  },
  {
   "cell_type": "code",
   "execution_count": 42,
   "id": "27d05668-8e67-4868-baa2-d50bcf7c1458",
   "metadata": {
    "jupyter": {
     "outputs_hidden": true
    }
   },
   "outputs": [],
   "source": [
    "x = 10\n",
    "y = 20\n",
    "z = 30"
   ]
  },
  {
   "cell_type": "code",
   "execution_count": 43,
   "id": "9032dbee",
   "metadata": {
    "tags": []
   },
   "outputs": [
    {
     "name": "stdout",
     "output_type": "stream",
     "text": [
      "2\n"
     ]
    }
   ],
   "source": [
    "# What is the output?\n",
    "x, y, z = 0, 1, 2\n",
    "print(z)"
   ]
  },
  {
   "cell_type": "markdown",
   "id": "c4661119",
   "metadata": {},
   "source": [
    "#### Constants\n",
    "A constant is like a variable whose value stays the same throughout the life of a program. Python doesn’t have built-in constant types, but Python programmers use all capital letters to indicate a variable should be treated as a constant and never be changed:\n"
   ]
  },
  {
   "cell_type": "code",
   "execution_count": 44,
   "id": "500c08ce",
   "metadata": {
    "tags": []
   },
   "outputs": [],
   "source": [
    "# Create a constant using python programmers convention\n",
    "A=10\n",
    "\n",
    "\n"
   ]
  },
  {
   "cell_type": "markdown",
   "id": "c9a45998",
   "metadata": {},
   "source": [
    "#### Comments"
   ]
  },
  {
   "cell_type": "code",
   "execution_count": 45,
   "id": "56310c33",
   "metadata": {
    "tags": []
   },
   "outputs": [
    {
     "name": "stdout",
     "output_type": "stream",
     "text": [
      "Hello Python people!\n"
     ]
    }
   ],
   "source": [
    "# Say hello to everyone.\n",
    "print(\"Hello Python people!\")\n"
   ]
  },
  {
   "cell_type": "code",
   "execution_count": 46,
   "id": "085eda88",
   "metadata": {
    "jupyter": {
     "outputs_hidden": true
    }
   },
   "outputs": [
    {
     "data": {
      "text/plain": [
       "'\\nMy name is mahmoud ali\\nAge : 14\\nAddress : Egypt \\n'"
      ]
     },
     "execution_count": 46,
     "metadata": {},
     "output_type": "execute_result"
    }
   ],
   "source": [
    "'''\n",
    "My name is mahmoud ali\n",
    "Age : 14\n",
    "Address : Egypt \n",
    "'''\n"
   ]
  },
  {
   "cell_type": "code",
   "execution_count": 49,
   "id": "0d8fb036",
   "metadata": {
    "tags": []
   },
   "outputs": [
    {
     "name": "stdout",
     "output_type": "stream",
     "text": [
      "20\n",
      "Ali30\n"
     ]
    },
    {
     "ename": "TypeError",
     "evalue": "can only concatenate str (not \"int\") to str",
     "output_type": "error",
     "traceback": [
      "\u001b[1;31m---------------------------------------------------------------------------\u001b[0m",
      "\u001b[1;31mTypeError\u001b[0m                                 Traceback (most recent call last)",
      "Cell \u001b[1;32mIn[49], line 5\u001b[0m\n\u001b[0;32m      3\u001b[0m \u001b[38;5;66;03m#solve it by:\u001b[39;00m\n\u001b[0;32m      4\u001b[0m \u001b[38;5;28mprint\u001b[39m(\u001b[38;5;124m\"\u001b[39m\u001b[38;5;124mAli\u001b[39m\u001b[38;5;124m\"\u001b[39m\u001b[38;5;241m+\u001b[39m\u001b[38;5;124m\"\u001b[39m\u001b[38;5;124m30\u001b[39m\u001b[38;5;124m\"\u001b[39m)\n\u001b[1;32m----> 5\u001b[0m \u001b[38;5;28mprint\u001b[39m(\u001b[38;5;124;43m\"\u001b[39;49m\u001b[38;5;124;43mAli\u001b[39;49m\u001b[38;5;124;43m\"\u001b[39;49m\u001b[38;5;241;43m+\u001b[39;49m\u001b[38;5;241;43m10\u001b[39;49m)\n",
      "\u001b[1;31mTypeError\u001b[0m: can only concatenate str (not \"int\") to str"
     ]
    }
   ],
   "source": [
    "# What is the output?\n",
    "print(10+10)\n",
    "#solve it by:\n",
    "print(\"Ali\"+\"30\")\n",
    "print(\"Ali\"+10)\n"
   ]
  },
  {
   "cell_type": "code",
   "execution_count": 50,
   "id": "9df1e63a-839e-4d4f-bb12-d90d6e60cdc3",
   "metadata": {
    "tags": []
   },
   "outputs": [
    {
     "name": "stdout",
     "output_type": "stream",
     "text": [
      "Ali 10.5\n"
     ]
    }
   ],
   "source": [
    "# What is the output?\n",
    "name = \"Ali\"\n",
    "num = 10.5\n",
    "test = f\"{name} {num}\"\n",
    "print(test)"
   ]
  },
  {
   "cell_type": "markdown",
   "id": "e9fb612f",
   "metadata": {},
   "source": [
    "#### List\n"
   ]
  },
  {
   "cell_type": "code",
   "execution_count": 1,
   "id": "a7d50b1c",
   "metadata": {
    "tags": []
   },
   "outputs": [
    {
     "name": "stdout",
     "output_type": "stream",
     "text": [
      "['mahmoud', 'ali', 'ahmed', 'mohamed']\n",
      "['Aya', '1', 'Ahmed', '2']\n"
     ]
    }
   ],
   "source": [
    "# Create a list of names (strings)\n",
    "list1=['mahmoud', 'ali', 'ahmed', 'mohamed']\n",
    "\n",
    "\n",
    "# Create another list of strings and integers\n",
    "list2=['Aya', '1', 'Ahmed', '2']\n",
    "\n",
    "\n",
    "# Show both lists\n",
    "print(list1)\n",
    "print(list2)"
   ]
  },
  {
   "cell_type": "markdown",
   "id": "632b1656",
   "metadata": {},
   "source": [
    "#### Accessing Elements in a List\n",
    "NOTE: Index Positions Start at 0, Not 1\n"
   ]
  },
  {
   "cell_type": "code",
   "execution_count": 2,
   "id": "471263d7",
   "metadata": {
    "tags": []
   },
   "outputs": [
    {
     "name": "stdout",
     "output_type": "stream",
     "text": [
      "mohamed\n"
     ]
    }
   ],
   "source": [
    "# What is the output?\n",
    "names = ['mahmoud', 'ali', 'ahmed', 'mohamed']\n",
    "print(names[3])"
   ]
  },
  {
   "cell_type": "code",
   "execution_count": 3,
   "id": "c2807d5f",
   "metadata": {
    "tags": []
   },
   "outputs": [
    {
     "name": "stdout",
     "output_type": "stream",
     "text": [
      "mohamed\n"
     ]
    }
   ],
   "source": [
    "# The last element in your list will have the index of -1\n",
    "# What is the output?\n",
    "print(names[-1]) #-->mohamed"
   ]
  },
  {
   "cell_type": "markdown",
   "id": "a6eda96e",
   "metadata": {},
   "source": [
    "#### Changing, Adding, and Removing Elements"
   ]
  },
  {
   "cell_type": "code",
   "execution_count": 4,
   "id": "6f1e8b54",
   "metadata": {
    "tags": []
   },
   "outputs": [
    {
     "name": "stdout",
     "output_type": "stream",
     "text": [
      "['mahmoud', 'ali', 'ahmed', 'mohamed']\n"
     ]
    }
   ],
   "source": [
    "names = ['mahmoud', 'ali', 'ahmed', 'mohamed']\n",
    "print(names)"
   ]
  },
  {
   "cell_type": "code",
   "execution_count": 6,
   "id": "ae4c73fe",
   "metadata": {
    "tags": []
   },
   "outputs": [
    {
     "name": "stdout",
     "output_type": "stream",
     "text": [
      "['Aya', 'ali', 'ahmed', 'mohamed']\n"
     ]
    }
   ],
   "source": [
    "# Modifying Elements in a List\n",
    "names[0]='Aya'\n",
    "print(names)\n"
   ]
  },
  {
   "cell_type": "code",
   "execution_count": 11,
   "id": "0f1767f3",
   "metadata": {
    "tags": []
   },
   "outputs": [
    {
     "name": "stdout",
     "output_type": "stream",
     "text": [
      "['Aya', 'Eissa', 'ali', 'ahmed', 'mohamed']\n"
     ]
    }
   ],
   "source": [
    "# Adding Elements to a List\n",
    "names.insert(1, 'Eissa')\n",
    "print(names)"
   ]
  },
  {
   "cell_type": "code",
   "execution_count": null,
   "id": "b6e9365c",
   "metadata": {
    "tags": []
   },
   "outputs": [
    {
     "name": "stdout",
     "output_type": "stream",
     "text": [
      "['a', 'b', 'c']\n",
      "['mahmoud', 'ali', 'ahmed', 'mohamed', ['a', 'b', 'c'], 'Ali', 'samer']\n"
     ]
    }
   ],
   "source": [
    "# You can append (add) any items to your empty list like:\n",
    "# What is the output?\n",
    "t1 = ['a', 'b', 'c']\n",
    "\n",
    "\n",
    "print(t1)\n",
    "\n",
    "names.append(t1)\n",
    "names.append('Ali')\n",
    "names.append('samer')\n",
    "print(names)\n"
   ]
  },
  {
   "cell_type": "code",
   "execution_count": 12,
   "id": "af2f87c5",
   "metadata": {
    "tags": []
   },
   "outputs": [
    {
     "name": "stdout",
     "output_type": "stream",
     "text": [
      "['a', 'b', 'c', 'd', 'e']\n"
     ]
    }
   ],
   "source": [
    "# extend takes a list as an argument and appends all of the elements:\n",
    "# What is the output?\n",
    "t1 = ['a', 'b', 'c']\n",
    "t2 = ['d', 'e']\n",
    "\n",
    "#t1.append(t2)\n",
    "t1.extend(t2)\n",
    "print(t1)"
   ]
  },
  {
   "cell_type": "code",
   "execution_count": 14,
   "id": "6f217409",
   "metadata": {
    "tags": []
   },
   "outputs": [
    {
     "name": "stdout",
     "output_type": "stream",
     "text": [
      "['honda', 'yamaha', 'suzuki', 'Marcedes']\n"
     ]
    }
   ],
   "source": [
    "# Inserting Elements into a List\n",
    "motorcycles = ['honda', 'yamaha', 'suzuki']\n",
    "moreInstances=['Marcedes']\n",
    "\n",
    "motorcycles.extend(moreInstances)\n",
    "print(motorcycles)"
   ]
  },
  {
   "cell_type": "code",
   "execution_count": 16,
   "id": "b361abbb",
   "metadata": {
    "tags": []
   },
   "outputs": [
    {
     "name": "stdout",
     "output_type": "stream",
     "text": [
      "['honda', 'suzuki', 'Marcedes']\n"
     ]
    }
   ],
   "source": [
    "# Removing an Item Using the del Statement\n",
    "del motorcycles[1]\n",
    "print(motorcycles)"
   ]
  },
  {
   "cell_type": "code",
   "execution_count": 17,
   "id": "58c7577d",
   "metadata": {
    "tags": []
   },
   "outputs": [
    {
     "name": "stdout",
     "output_type": "stream",
     "text": [
      "['mahmoud', 'ali', 'ahmed']\n"
     ]
    }
   ],
   "source": [
    "# Removing an Item Using the pop() Method\n",
    "names = ['mahmoud', 'ali', 'ahmed', 'mohamed']\n",
    "names.pop()\n",
    "print(names)"
   ]
  },
  {
   "cell_type": "code",
   "execution_count": null,
   "id": "dd933052",
   "metadata": {
    "tags": []
   },
   "outputs": [
    {
     "name": "stdout",
     "output_type": "stream",
     "text": [
      "suzuki\n"
     ]
    }
   ],
   "source": [
    "# What is the output?\n",
    "motorcycles = ['honda', 'yamaha', 'suzuki']\n",
    "popped_motorcycle = motorcycles.pop()\n",
    "print(popped_motorcycle)\n",
    "#The pop() method in Python removes and returns the last item from a list"
   ]
  },
  {
   "cell_type": "code",
   "execution_count": 20,
   "id": "906fdf5e",
   "metadata": {
    "tags": []
   },
   "outputs": [
    {
     "name": "stdout",
     "output_type": "stream",
     "text": [
      "['yamaha', 'suzuki']\n"
     ]
    }
   ],
   "source": [
    "# Removing an Item by Value\n",
    "motorcycles = ['honda', 'yamaha', 'suzuki']\n",
    "\n",
    "motorcycles.remove('honda')\n",
    "print(motorcycles)\n"
   ]
  },
  {
   "cell_type": "code",
   "execution_count": 22,
   "id": "a49373b5",
   "metadata": {
    "tags": []
   },
   "outputs": [
    {
     "name": "stdout",
     "output_type": "stream",
     "text": [
      "[1, 2, 3, 4, 5]\n"
     ]
    }
   ],
   "source": [
    "# Organizing a List\n",
    "# What is the output?\n",
    "numbers = [5, 3, 1, 4,2]\n",
    "numbers.sort()\n",
    "print(numbers)"
   ]
  },
  {
   "cell_type": "code",
   "execution_count": 23,
   "id": "3b55fb52",
   "metadata": {
    "tags": []
   },
   "outputs": [
    {
     "name": "stdout",
     "output_type": "stream",
     "text": [
      "[5, 4, 3, 2, 1]\n"
     ]
    }
   ],
   "source": [
    "numbers.reverse()\n",
    "print(numbers)"
   ]
  },
  {
   "cell_type": "markdown",
   "id": "46b3fca2",
   "metadata": {},
   "source": [
    "Notice that reverse() doesn’t sort backward."
   ]
  },
  {
   "cell_type": "code",
   "execution_count": 24,
   "id": "b64af9f5",
   "metadata": {
    "tags": []
   },
   "outputs": [
    {
     "name": "stdout",
     "output_type": "stream",
     "text": [
      "['ahmed', 'ali', 'mahmoud', 'mohamed']\n"
     ]
    }
   ],
   "source": [
    "# Sorting a list of strings\n",
    "# What is the output?\n",
    "names = ['mahmoud', 'ali', 'ahmed', 'mohamed']\n",
    "names.sort()\n",
    "print(names)"
   ]
  },
  {
   "cell_type": "code",
   "execution_count": 26,
   "id": "e449df97",
   "metadata": {
    "tags": []
   },
   "outputs": [
    {
     "name": "stdout",
     "output_type": "stream",
     "text": [
      "4\n"
     ]
    }
   ],
   "source": [
    "#Finding the Length of a List\n",
    "length_of_names = len(names)\n",
    "print(length_of_names)"
   ]
  },
  {
   "cell_type": "code",
   "execution_count": 39,
   "id": "9802fb3d",
   "metadata": {
    "tags": []
   },
   "outputs": [
    {
     "ename": "IndexError",
     "evalue": "list index out of range",
     "output_type": "error",
     "traceback": [
      "\u001b[1;31m---------------------------------------------------------------------------\u001b[0m",
      "\u001b[1;31mIndexError\u001b[0m                                Traceback (most recent call last)",
      "Cell \u001b[1;32mIn[39], line 4\u001b[0m\n\u001b[0;32m      1\u001b[0m \u001b[38;5;66;03m# Avoiding Index Errors When Working with Lists\u001b[39;00m\n\u001b[0;32m      2\u001b[0m \u001b[38;5;66;03m# What is the output?\u001b[39;00m\n\u001b[0;32m      3\u001b[0m names \u001b[38;5;241m=\u001b[39m [\u001b[38;5;124m'\u001b[39m\u001b[38;5;124mmahmoud\u001b[39m\u001b[38;5;124m'\u001b[39m, \u001b[38;5;124m'\u001b[39m\u001b[38;5;124mali\u001b[39m\u001b[38;5;124m'\u001b[39m, \u001b[38;5;124m'\u001b[39m\u001b[38;5;124mahmed\u001b[39m\u001b[38;5;124m'\u001b[39m, \u001b[38;5;124m'\u001b[39m\u001b[38;5;124mmohamed\u001b[39m\u001b[38;5;124m'\u001b[39m]\n\u001b[1;32m----> 4\u001b[0m \u001b[38;5;28mprint\u001b[39m(names[\u001b[38;5;241m4\u001b[39m])\n",
      "\u001b[1;31mIndexError\u001b[0m: list index out of range"
     ]
    }
   ],
   "source": [
    "# Avoiding Index Errors When Working with Lists\n",
    "# What is the output?\n",
    "names = ['mahmoud', 'ali', 'ahmed', 'mohamed']\n",
    "print(names[4])\n"
   ]
  },
  {
   "cell_type": "code",
   "execution_count": 27,
   "id": "c58852bc",
   "metadata": {
    "tags": []
   },
   "outputs": [
    {
     "name": "stdout",
     "output_type": "stream",
     "text": [
      "mahmoud\n",
      "ali\n",
      "ahmed\n",
      "mohamed\n"
     ]
    }
   ],
   "source": [
    "# Print the items inside the list one by one\n",
    "names = ['mahmoud', 'ali', 'ahmed', 'mohamed']\n",
    "#For loop to iterate over each name from the list and print it\n",
    "for name in names:\n",
    "    print(name)"
   ]
  },
  {
   "cell_type": "code",
   "execution_count": null,
   "id": "a7b333fe",
   "metadata": {
    "tags": []
   },
   "outputs": [],
   "source": [
    "#Looping Through an Entire List\n",
    "\n",
    "\n",
    "\n",
    "\n",
    "\n"
   ]
  },
  {
   "cell_type": "code",
   "execution_count": 28,
   "id": "c9dab985",
   "metadata": {
    "tags": []
   },
   "outputs": [
    {
     "name": "stdout",
     "output_type": "stream",
     "text": [
      "mahmoud\n",
      "ali\n",
      "ahmed\n",
      "mohamed\n",
      "the end\n"
     ]
    }
   ],
   "source": [
    "# Doing Something After a for Loop\n",
    "# What is the output?\n",
    "names = ['mahmoud', 'ali', 'ahmed', 'mohamed']\n",
    "\n",
    "for name in names:\n",
    "    print(name)\n",
    "\n",
    "print('the end')"
   ]
  },
  {
   "cell_type": "code",
   "execution_count": 29,
   "id": "2cbbb0d2",
   "metadata": {
    "tags": []
   },
   "outputs": [
    {
     "name": "stdout",
     "output_type": "stream",
     "text": [
      "[1, 2, 3, 4, 5, 6, 7, 8, 9, 10, 11, 12, 13, 14, 15, 16, 17, 18, 19]\n"
     ]
    }
   ],
   "source": [
    "# Making Numerical Lists Using range function\n",
    "# What is the output?\n",
    "numbers = list(range(1, 20)) \n",
    "print(numbers)"
   ]
  },
  {
   "cell_type": "code",
   "execution_count": 30,
   "id": "6e8afa7e",
   "metadata": {
    "tags": []
   },
   "outputs": [
    {
     "name": "stdout",
     "output_type": "stream",
     "text": [
      "[2, 4, 6, 8, 10]\n"
     ]
    }
   ],
   "source": [
    "# Create a list of even numbers starting at 2 till 10 (included)\n",
    "numbers = list(range(2, 12, 2)) \n",
    "print(numbers)"
   ]
  },
  {
   "cell_type": "code",
   "execution_count": 31,
   "id": "cb678bb0-a786-4c2f-92dc-d047ca8e748b",
   "metadata": {
    "tags": []
   },
   "outputs": [
    {
     "name": "stdout",
     "output_type": "stream",
     "text": [
      "1\n",
      "2\n",
      "3\n",
      "4\n",
      "5\n",
      "6\n",
      "7\n",
      "8\n",
      "9\n",
      "10\n"
     ]
    }
   ],
   "source": [
    "# We can use the \"range\" function with \"for\" loop\n",
    "# What is the output?\n",
    "for number in range(1,11):\n",
    "    print(number)"
   ]
  },
  {
   "cell_type": "code",
   "execution_count": 33,
   "id": "1fc1474c",
   "metadata": {
    "jupyter": {
     "outputs_hidden": true
    },
    "tags": []
   },
   "outputs": [
    {
     "name": "stdout",
     "output_type": "stream",
     "text": [
      "[1, 4, 9, 16, 25, 36, 49, 64, 81, 100]\n",
      "1\n",
      "4\n",
      "9\n",
      "16\n",
      "25\n",
      "36\n",
      "49\n",
      "64\n",
      "81\n",
      "100\n"
     ]
    }
   ],
   "source": [
    "# Quiz \n",
    "# create a list of squares from 1 to 10 numbers\n",
    "\n",
    "# Solution\n",
    "squares = [x**2 for x in range(1, 11)]\n",
    "print(squares)\n",
    "\n",
    "for i in range(1,11):\n",
    "    squares2=i**2\n",
    "    print(squares2)"
   ]
  },
  {
   "cell_type": "markdown",
   "id": "a382b969",
   "metadata": {},
   "source": [
    "<details><summary><h4>Quiz Solution</h4></summary>\n",
    "\n",
    "```python\n",
    "squares = [x**2 for x in range(1, 11)]\n",
    "print(squares)\n",
    "```\n",
    "\n",
    "</details>"
   ]
  },
  {
   "cell_type": "code",
   "execution_count": 34,
   "id": "3698a69e",
   "metadata": {
    "tags": []
   },
   "outputs": [
    {
     "name": "stdout",
     "output_type": "stream",
     "text": [
      "0\n",
      "9\n",
      "45\n"
     ]
    }
   ],
   "source": [
    "# Simple Statistics with a List of Numbers\n",
    "# What is the output?\n",
    "digits = [1, 2, 3, 4, 5, 6, 7, 8, 9, 0]\n",
    "\n",
    "print(min(digits))\n",
    "\n",
    "print(max(digits))\n",
    "\n",
    "print(sum(digits))\n"
   ]
  },
  {
   "cell_type": "code",
   "execution_count": 35,
   "id": "4919b5c3",
   "metadata": {
    "tags": []
   },
   "outputs": [
    {
     "name": "stdout",
     "output_type": "stream",
     "text": [
      "[1, 4, 9, 16, 25, 36, 49, 64, 81, 100]\n"
     ]
    }
   ],
   "source": [
    "# List Comprehensions\n",
    "# What is the output?\n",
    "squares = [value**2 for value in range(1, 11)]\n",
    "print(squares)"
   ]
  },
  {
   "cell_type": "code",
   "execution_count": 39,
   "id": "78c27359-ed59-4df8-980c-a05b4f9b3c27",
   "metadata": {
    "collapsed": true
   },
   "outputs": [
    {
     "name": "stdout",
     "output_type": "stream",
     "text": [
      "[0, 2, 4, 6, 8, 10, 12, 14, 16, 18, 20]\n"
     ]
    }
   ],
   "source": [
    "# List of even numbers from 1 to 20\n",
    "squares = [value for value in range(0, 21,2)]\n",
    "print(squares)"
   ]
  },
  {
   "cell_type": "code",
   "execution_count": 40,
   "id": "0d392951-eb80-46a4-865e-c038d6adf125",
   "metadata": {
    "collapsed": true
   },
   "outputs": [
    {
     "name": "stdout",
     "output_type": "stream",
     "text": [
      "[(0, 0), (0, 1), (0, 2), (1, 0), (1, 1), (1, 2), (2, 0), (2, 1), (2, 2)]\n"
     ]
    }
   ],
   "source": [
    "# List of coordinate pairs in a 3x3 grid\n",
    "grid_size = 3\n",
    "coordinates = []\n",
    "#nested loops\n",
    "for x in range(grid_size):\n",
    "    for y in range(grid_size):\n",
    "        coordinates.append((x, y))\n",
    "\n",
    "print(coordinates)"
   ]
  },
  {
   "cell_type": "code",
   "execution_count": null,
   "id": "e3c7c210-c26e-473f-aaef-34c15389f9ec",
   "metadata": {
    "collapsed": true
   },
   "outputs": [
    {
     "name": "stdout",
     "output_type": "stream",
     "text": [
      "1 x 1 = 1\n",
      "1 x 2 = 2\n",
      "1 x 3 = 3\n",
      "1 x 4 = 4\n",
      "1 x 5 = 5\n",
      "1 x 6 = 6\n",
      "1 x 7 = 7\n",
      "1 x 8 = 8\n",
      "1 x 9 = 9\n",
      "1 x 10 = 10\n",
      "\n",
      "2 x 1 = 2\n",
      "2 x 2 = 4\n",
      "2 x 3 = 6\n",
      "2 x 4 = 8\n",
      "2 x 5 = 10\n",
      "2 x 6 = 12\n",
      "2 x 7 = 14\n",
      "2 x 8 = 16\n",
      "2 x 9 = 18\n",
      "2 x 10 = 20\n",
      "\n",
      "3 x 1 = 3\n",
      "3 x 2 = 6\n",
      "3 x 3 = 9\n",
      "3 x 4 = 12\n",
      "3 x 5 = 15\n",
      "3 x 6 = 18\n",
      "3 x 7 = 21\n",
      "3 x 8 = 24\n",
      "3 x 9 = 27\n",
      "3 x 10 = 30\n",
      "\n",
      "4 x 1 = 4\n",
      "4 x 2 = 8\n",
      "4 x 3 = 12\n",
      "4 x 4 = 16\n",
      "4 x 5 = 20\n",
      "4 x 6 = 24\n",
      "4 x 7 = 28\n",
      "4 x 8 = 32\n",
      "4 x 9 = 36\n",
      "4 x 10 = 40\n",
      "\n",
      "5 x 1 = 5\n",
      "5 x 2 = 10\n",
      "5 x 3 = 15\n",
      "5 x 4 = 20\n",
      "5 x 5 = 25\n",
      "5 x 6 = 30\n",
      "5 x 7 = 35\n",
      "5 x 8 = 40\n",
      "5 x 9 = 45\n",
      "5 x 10 = 50\n",
      "\n",
      "6 x 1 = 6\n",
      "6 x 2 = 12\n",
      "6 x 3 = 18\n",
      "6 x 4 = 24\n",
      "6 x 5 = 30\n",
      "6 x 6 = 36\n",
      "6 x 7 = 42\n",
      "6 x 8 = 48\n",
      "6 x 9 = 54\n",
      "6 x 10 = 60\n",
      "\n",
      "7 x 1 = 7\n",
      "7 x 2 = 14\n",
      "7 x 3 = 21\n",
      "7 x 4 = 28\n",
      "7 x 5 = 35\n",
      "7 x 6 = 42\n",
      "7 x 7 = 49\n",
      "7 x 8 = 56\n",
      "7 x 9 = 63\n",
      "7 x 10 = 70\n",
      "\n",
      "8 x 1 = 8\n",
      "8 x 2 = 16\n",
      "8 x 3 = 24\n",
      "8 x 4 = 32\n",
      "8 x 5 = 40\n",
      "8 x 6 = 48\n",
      "8 x 7 = 56\n",
      "8 x 8 = 64\n",
      "8 x 9 = 72\n",
      "8 x 10 = 80\n",
      "\n",
      "9 x 1 = 9\n",
      "9 x 2 = 18\n",
      "9 x 3 = 27\n",
      "9 x 4 = 36\n",
      "9 x 5 = 45\n",
      "9 x 6 = 54\n",
      "9 x 7 = 63\n",
      "9 x 8 = 72\n",
      "9 x 9 = 81\n",
      "9 x 10 = 90\n",
      "\n",
      "10 x 1 = 10\n",
      "10 x 2 = 20\n",
      "10 x 3 = 30\n",
      "10 x 4 = 40\n",
      "10 x 5 = 50\n",
      "10 x 6 = 60\n",
      "10 x 7 = 70\n",
      "10 x 8 = 80\n",
      "10 x 9 = 90\n",
      "10 x 10 = 100\n",
      "\n"
     ]
    }
   ],
   "source": [
    "# Multiplication table from 1 to 10\n",
    "for i in range(1, 11):\n",
    "    for j in range(1, 11):\n",
    "        print(f\"{i} x {j} = {i * j}\")\n",
    "    print() #-->for better readablity"
   ]
  },
  {
   "cell_type": "code",
   "execution_count": 41,
   "id": "9b24d98b",
   "metadata": {
    "tags": []
   },
   "outputs": [
    {
     "name": "stdout",
     "output_type": "stream",
     "text": [
      "[1, 4, 9, 16, 25, 36, 49, 64, 81, 100]\n"
     ]
    }
   ],
   "source": [
    "squares = []\n",
    "for value in range(1, 11):\n",
    "      squares.append(value ** 2)\n",
    "\n",
    "print(squares)\n"
   ]
  },
  {
   "cell_type": "markdown",
   "id": "5902bf1e",
   "metadata": {},
   "source": [
    "**Try It Yourself**\n",
    "\n",
    "\n",
    "3.1 Guest List: If you could invite anyone, living or deceased, to dinner, who would you invite? \n",
    "Make a list that includes at least three people you’d like to invite to dinner. Then use your list to print a message to each person, inviting them to dinner."
   ]
  },
  {
   "cell_type": "code",
   "execution_count": 45,
   "id": "5700bbd2",
   "metadata": {},
   "outputs": [
    {
     "name": "stdout",
     "output_type": "stream",
     "text": [
      "Can you please accept my dinner invitation ya Hend?\n",
      "Can you please accept my dinner invitation ya Rana?\n",
      "Can you please accept my dinner invitation ya Mervat?\n"
     ]
    }
   ],
   "source": [
    "Invitations = ['Hend', 'Rana', 'Mervat']\n",
    "for invitation in Invitations:\n",
    "    print(f\"Can you please accept my dinner invitation ya {invitation}?\")"
   ]
  },
  {
   "cell_type": "markdown",
   "id": "53975800",
   "metadata": {},
   "source": [
    "3.2 Changing Guest List: You just heard that one of your guests can’t make the dinner, so you need to send out a new set of invitations. You’ll have to think of someone else to invite. \n",
    "Start with your program from Exercise 3.1. Add a print() call at the end of your program stating the name of the guest who can’t make it. \n",
    "Modify your list, replacing the name of the guest who can’t make it with the name of the new person you are inviting. \n",
    "Print a second set of invitation messages, one for each person who is still in your list."
   ]
  },
  {
   "cell_type": "code",
   "execution_count": 46,
   "id": "e851280b",
   "metadata": {},
   "outputs": [
    {
     "name": "stdout",
     "output_type": "stream",
     "text": [
      "Can you please accept my dinner invitation ya Hend?\n",
      "Can you please accept my dinner invitation ya Rana?\n",
      "Can you please accept my dinner invitation ya Mervat?\n",
      "Unfortunately, Mervat cannot come\n",
      "Can you please accept my dinner invitation ya Hend?\n",
      "Can you please accept my dinner invitation ya Rana?\n",
      "Can you please accept my dinner invitation ya Noran?\n"
     ]
    }
   ],
   "source": [
    "Invitations = ['Hend', 'Rana', 'Mervat']\n",
    "for invitation in Invitations:\n",
    "    print(f\"Can you please accept my dinner invitation ya {invitation}?\")\n",
    "\n",
    "print(\"Unfortunately, Mervat cannot come\")\n",
    "\n",
    "Invitations[2] = 'Noran'\n",
    "\n",
    "for invitation in Invitations:\n",
    "    print(f\"Can you please accept my dinner invitation ya {invitation}?\")"
   ]
  },
  {
   "cell_type": "markdown",
   "id": "30d8adcf",
   "metadata": {},
   "source": [
    "3.3 More Guests: You just found a bigger dinner table, so now more space is available. Think of three more guests to invite to dinner.  "
   ]
  },
  {
   "cell_type": "code",
   "execution_count": 50,
   "id": "4361797a",
   "metadata": {},
   "outputs": [
    {
     "name": "stdout",
     "output_type": "stream",
     "text": [
      "Can you please accept my dinner invitation ya Hend?\n",
      "Can you please accept my dinner invitation ya Rana?\n",
      "Can you please accept my dinner invitation ya Mervat?\n",
      "Unfortunately, Mervat cannot come\n",
      "Can you please accept my dinner invitation ya Hend?\n",
      "Can you please accept my dinner invitation ya Rana?\n",
      "Can you please accept my dinner invitation ya Noran?\n",
      "Oh God, I can add three more people\n",
      "Can you please accept my dinner invitation ya Mostafa?\n",
      "Can you please accept my dinner invitation ya Hend?\n",
      "Can you please accept my dinner invitation ya Logien?\n",
      "Can you please accept my dinner invitation ya Rana?\n",
      "Can you please accept my dinner invitation ya Noran?\n",
      "Can you please accept my dinner invitation ya Sarah?\n"
     ]
    }
   ],
   "source": [
    "Invitations = ['Hend', 'Rana', 'Mervat']\n",
    "for invitation in Invitations:\n",
    "    print(f\"Can you please accept my dinner invitation ya {invitation}?\")\n",
    "\n",
    "print(\"Unfortunately, Mervat cannot come\")\n",
    "\n",
    "Invitations[2] = 'Noran'\n",
    "\n",
    "for invitation in Invitations:\n",
    "    print(f\"Can you please accept my dinner invitation ya {invitation}?\")\n",
    "print(\"Oh God, I can add three more people\")\n",
    "\n",
    "Invitations.insert(0,'Mostafa')\n",
    "Invitations.insert(2,'Logien')\n",
    "Invitations.append('Sarah')\n",
    "\n",
    "for invitation in Invitations:\n",
    "    print(f\"Can you please accept my dinner invitation ya {invitation}?\")"
   ]
  },
  {
   "cell_type": "markdown",
   "id": "404e90f9",
   "metadata": {},
   "source": [
    "\n",
    "\n",
    "Start with your program from Exercise 3.1 or Exercise 3.2. Add a print() call to the end of your program informing people that you found a bigger dinner table. \n",
    "Use insert() to add one new guest to the beginning of your list.\n",
    "\n",
    "\n",
    "Use insert() to add one new guest to the middle of your list. \n",
    "\n",
    "\n",
    "Use append() to add one new guest to the end of your list. \n",
    "\n",
    "\n",
    "Print a new set of invitation messages, one for each person in your list\n"
   ]
  }
 ],
 "metadata": {
  "kernelspec": {
   "display_name": "Python 3",
   "language": "python",
   "name": "python3"
  },
  "language_info": {
   "codemirror_mode": {
    "name": "ipython",
    "version": 3
   },
   "file_extension": ".py",
   "mimetype": "text/x-python",
   "name": "python",
   "nbconvert_exporter": "python",
   "pygments_lexer": "ipython3",
   "version": "3.12.1"
  }
 },
 "nbformat": 4,
 "nbformat_minor": 5
}
