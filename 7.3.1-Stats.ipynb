{
 "cells": [
  {
   "cell_type": "code",
   "execution_count": 1,
   "metadata": {},
   "outputs": [
    {
     "name": "stdout",
     "output_type": "stream",
     "text": [
      "Requirement already satisfied: matplotlib in c:\\users\\aya\\documents\\new folder\\envs\\depi_env\\lib\\site-packages (3.10.0)\n",
      "Requirement already satisfied: contourpy>=1.0.1 in c:\\users\\aya\\documents\\new folder\\envs\\depi_env\\lib\\site-packages (from matplotlib) (1.3.1)\n",
      "Requirement already satisfied: cycler>=0.10 in c:\\users\\aya\\documents\\new folder\\envs\\depi_env\\lib\\site-packages (from matplotlib) (0.12.1)\n",
      "Requirement already satisfied: fonttools>=4.22.0 in c:\\users\\aya\\documents\\new folder\\envs\\depi_env\\lib\\site-packages (from matplotlib) (4.55.3)\n",
      "Requirement already satisfied: kiwisolver>=1.3.1 in c:\\users\\aya\\documents\\new folder\\envs\\depi_env\\lib\\site-packages (from matplotlib) (1.4.8)\n",
      "Requirement already satisfied: numpy>=1.23 in c:\\users\\aya\\documents\\new folder\\envs\\depi_env\\lib\\site-packages (from matplotlib) (2.2.1)\n",
      "Requirement already satisfied: packaging>=20.0 in c:\\users\\aya\\documents\\new folder\\envs\\depi_env\\lib\\site-packages (from matplotlib) (24.2)\n",
      "Requirement already satisfied: pillow>=8 in c:\\users\\aya\\documents\\new folder\\envs\\depi_env\\lib\\site-packages (from matplotlib) (11.1.0)\n",
      "Requirement already satisfied: pyparsing>=2.3.1 in c:\\users\\aya\\documents\\new folder\\envs\\depi_env\\lib\\site-packages (from matplotlib) (3.2.1)\n",
      "Requirement already satisfied: python-dateutil>=2.7 in c:\\users\\aya\\documents\\new folder\\envs\\depi_env\\lib\\site-packages (from matplotlib) (2.9.0)\n",
      "Requirement already satisfied: six>=1.5 in c:\\users\\aya\\documents\\new folder\\envs\\depi_env\\lib\\site-packages (from python-dateutil>=2.7->matplotlib) (1.16.0)\n",
      "Collecting scipy\n",
      "  Downloading scipy-1.15.1-cp313-cp313-win_amd64.whl.metadata (60 kB)\n",
      "Requirement already satisfied: numpy<2.5,>=1.23.5 in c:\\users\\aya\\documents\\new folder\\envs\\depi_env\\lib\\site-packages (from scipy) (2.2.1)\n",
      "Downloading scipy-1.15.1-cp313-cp313-win_amd64.whl (43.6 MB)\n",
      "   ---------------------------------------- 0.0/43.6 MB ? eta -:--:--\n",
      "   ---------------------------------------- 0.5/43.6 MB 4.0 MB/s eta 0:00:11\n",
      "   - -------------------------------------- 1.3/43.6 MB 4.0 MB/s eta 0:00:11\n",
      "   - -------------------------------------- 1.8/43.6 MB 3.4 MB/s eta 0:00:13\n",
      "   -- ------------------------------------- 2.6/43.6 MB 3.5 MB/s eta 0:00:12\n",
      "   -- ------------------------------------- 2.9/43.6 MB 3.6 MB/s eta 0:00:12\n",
      "   --- ------------------------------------ 4.2/43.6 MB 3.5 MB/s eta 0:00:12\n",
      "   ---- ----------------------------------- 5.0/43.6 MB 3.5 MB/s eta 0:00:11\n",
      "   ----- ---------------------------------- 5.8/43.6 MB 3.6 MB/s eta 0:00:11\n",
      "   ------ --------------------------------- 6.6/43.6 MB 3.6 MB/s eta 0:00:11\n",
      "   ------ --------------------------------- 7.3/43.6 MB 3.6 MB/s eta 0:00:10\n",
      "   ------- -------------------------------- 8.1/43.6 MB 3.7 MB/s eta 0:00:10\n",
      "   -------- ------------------------------- 8.9/43.6 MB 3.7 MB/s eta 0:00:10\n",
      "   -------- ------------------------------- 9.7/43.6 MB 3.7 MB/s eta 0:00:10\n",
      "   --------- ------------------------------ 10.7/43.6 MB 3.7 MB/s eta 0:00:09\n",
      "   ---------- ----------------------------- 11.5/43.6 MB 3.7 MB/s eta 0:00:09\n",
      "   ----------- ---------------------------- 12.3/43.6 MB 3.7 MB/s eta 0:00:09\n",
      "   ------------ --------------------------- 13.1/43.6 MB 3.7 MB/s eta 0:00:09\n",
      "   ------------ --------------------------- 13.9/43.6 MB 3.7 MB/s eta 0:00:08\n",
      "   ------------- -------------------------- 14.7/43.6 MB 3.7 MB/s eta 0:00:08\n",
      "   -------------- ------------------------- 15.5/43.6 MB 3.7 MB/s eta 0:00:08\n",
      "   -------------- ------------------------- 16.3/43.6 MB 3.7 MB/s eta 0:00:08\n",
      "   --------------- ------------------------ 17.0/43.6 MB 3.7 MB/s eta 0:00:08\n",
      "   ---------------- ----------------------- 17.8/43.6 MB 3.7 MB/s eta 0:00:07\n",
      "   ----------------- ---------------------- 18.6/43.6 MB 3.7 MB/s eta 0:00:07\n",
      "   ----------------- ---------------------- 19.4/43.6 MB 3.7 MB/s eta 0:00:07\n",
      "   ------------------ --------------------- 20.2/43.6 MB 3.7 MB/s eta 0:00:07\n",
      "   ------------------- -------------------- 21.0/43.6 MB 3.7 MB/s eta 0:00:07\n",
      "   ------------------- -------------------- 21.8/43.6 MB 3.7 MB/s eta 0:00:06\n",
      "   -------------------- ------------------- 22.5/43.6 MB 3.7 MB/s eta 0:00:06\n",
      "   --------------------- ------------------ 23.3/43.6 MB 3.7 MB/s eta 0:00:06\n",
      "   ---------------------- ----------------- 24.1/43.6 MB 3.7 MB/s eta 0:00:06\n",
      "   ---------------------- ----------------- 24.9/43.6 MB 3.7 MB/s eta 0:00:06\n",
      "   ----------------------- ---------------- 25.7/43.6 MB 3.7 MB/s eta 0:00:05\n",
      "   ------------------------ --------------- 26.5/43.6 MB 3.7 MB/s eta 0:00:05\n",
      "   ------------------------ --------------- 27.3/43.6 MB 3.7 MB/s eta 0:00:05\n",
      "   ------------------------- -------------- 27.8/43.6 MB 3.7 MB/s eta 0:00:05\n",
      "   -------------------------- ------------- 28.6/43.6 MB 3.7 MB/s eta 0:00:05\n",
      "   -------------------------- ------------- 29.4/43.6 MB 3.7 MB/s eta 0:00:04\n",
      "   --------------------------- ------------ 30.1/43.6 MB 3.7 MB/s eta 0:00:04\n",
      "   ---------------------------- ----------- 30.9/43.6 MB 3.7 MB/s eta 0:00:04\n",
      "   ---------------------------- ----------- 31.5/43.6 MB 3.7 MB/s eta 0:00:04\n",
      "   ----------------------------- ---------- 32.2/43.6 MB 3.7 MB/s eta 0:00:04\n",
      "   ------------------------------ --------- 33.3/43.6 MB 3.7 MB/s eta 0:00:03\n",
      "   ------------------------------- -------- 34.1/43.6 MB 3.7 MB/s eta 0:00:03\n",
      "   ------------------------------- -------- 34.9/43.6 MB 3.7 MB/s eta 0:00:03\n",
      "   -------------------------------- ------- 35.4/43.6 MB 3.7 MB/s eta 0:00:03\n",
      "   --------------------------------- ------ 36.4/43.6 MB 3.7 MB/s eta 0:00:02\n",
      "   --------------------------------- ------ 37.0/43.6 MB 3.7 MB/s eta 0:00:02\n",
      "   ---------------------------------- ----- 38.0/43.6 MB 3.7 MB/s eta 0:00:02\n",
      "   ----------------------------------- ---- 38.8/43.6 MB 3.7 MB/s eta 0:00:02\n",
      "   ------------------------------------ --- 39.6/43.6 MB 3.7 MB/s eta 0:00:02\n",
      "   ------------------------------------- -- 40.4/43.6 MB 3.7 MB/s eta 0:00:01\n",
      "   ------------------------------------- -- 41.2/43.6 MB 3.7 MB/s eta 0:00:01\n",
      "   -------------------------------------- - 41.9/43.6 MB 3.7 MB/s eta 0:00:01\n",
      "   ---------------------------------------  42.7/43.6 MB 3.7 MB/s eta 0:00:01\n",
      "   ---------------------------------------  43.3/43.6 MB 3.7 MB/s eta 0:00:01\n",
      "   ---------------------------------------- 43.6/43.6 MB 3.7 MB/s eta 0:00:00\n",
      "Installing collected packages: scipy\n",
      "Successfully installed scipy-1.15.1\n"
     ]
    }
   ],
   "source": [
    "!pip install matplotlib\n",
    "!pip install scipy\n",
    "%matplotlib inline"
   ]
  },
  {
   "cell_type": "code",
   "execution_count": 2,
   "metadata": {},
   "outputs": [],
   "source": [
    "from numpy import arange\n",
    "from matplotlib import pyplot\n",
    "from scipy.stats import norm"
   ]
  },
  {
   "cell_type": "code",
   "execution_count": 4,
   "metadata": {},
   "outputs": [
    {
     "data": {
      "image/png": "[encoded data removed]",
      "text/plain": [
       "<Figure size 640x480 with 1 Axes>"
      ]
     },
     "metadata": {},
     "output_type": "display_data"
    }
   ],
   "source": [
    "# generate and plot an idealized gaussian\n",
    "\n",
    "# x-axis for the plot\n",
    "x_axis = arange(-3, 3, 0.001)\n",
    "# y-axis as the gaussian\n",
    "y_axis = norm.pdf(x_axis, 0, 1)\n",
    "# plot data\n",
    "pyplot.plot(x_axis, y_axis)\n",
    "pyplot.show()"
   ]
  },
  {
   "cell_type": "markdown",
   "metadata": {},
   "source": [
    "The x-axis are\n",
    " the observations and the y-axis is the likelihood of each observation. In this case, observations\n",
    " around 0.0 are the most common and observations around-3.0 and 3.0 are rare or unlikely."
   ]
  },
  {
   "cell_type": "markdown",
   "metadata": {},
   "source": [
    "`norm.pdf()` is a function from the scipy.stats module in Python. \n",
    "\n",
    "It calculates the `probability density function (PDF)` of a normal distribution. \n",
    "\n",
    "The PDF of a normal distribution is a bell-shaped curve that describes the probability of a random variable taking on a certain value. \n",
    "\n",
    "The `norm.pdf()` function takes three parameters: `x`, `loc`, and `scale`: \n",
    "- `x` is the value at which to evaluate the PDF \n",
    "- `loc` is the mean of the distribution\n",
    "- `scale` is the standard deviation of the distribution"
   ]
  },
  {
   "cell_type": "markdown",
   "metadata": {},
   "source": [
    "### Test Dataset"
   ]
  },
  {
   "cell_type": "markdown",
   "metadata": {},
   "source": [
    "The `randn()` function will generate a specified number of random numbers (e.g. 10,000) drawn from a Gaussian distribution with a mean of zero and a standard deviation of 1. \n",
    "\n",
    "We can then scale these numbers to a Gaussian of our choosing by rescaling the numbers. This can be made consistent by adding the desired mean (e.g. 50) and multiplying the value by the standard deviation (5)."
   ]
  },
  {
   "cell_type": "code",
   "execution_count": 3,
   "metadata": {},
   "outputs": [],
   "source": [
    "from numpy.random import seed\n",
    "from numpy.random import randn\n",
    "from matplotlib import pyplot"
   ]
  },
  {
   "cell_type": "code",
   "execution_count": null,
   "metadata": {},
   "outputs": [
    {
     "data": {
      "image/png": "[encoded data removed]",
      "text/plain": [
       "<Figure size 640x480 with 1 Axes>"
      ]
     },
     "metadata": {},
     "output_type": "display_data"
    }
   ],
   "source": [
    "# generate a sample of random gaussians\n",
    "\n",
    "# seed the random number generator -->start from 1 to ensure each time produce same random numbers\n",
    "seed(1)\n",
    "# generate univariate observations --> x-aais \n",
    "data=5*randn(10000) + 50\n",
    "# histogram of generated data\n",
    "#It will specify no of bins to be used in the histogram\n",
    "pyplot.hist(data)\n",
    "pyplot.show()"
   ]
  },
  {
   "cell_type": "code",
   "execution_count": 6,
   "metadata": {},
   "outputs": [],
   "source": [
    "from numpy.random import seed\n",
    "from numpy.random import randn\n",
    "from matplotlib import pyplot"
   ]
  },
  {
   "cell_type": "code",
   "execution_count": 8,
   "metadata": {},
   "outputs": [
    {
     "data": {
      "image/png": "[encoded data removed]",
      "text/plain": [
       "<Figure size 640x480 with 1 Axes>"
      ]
     },
     "metadata": {},
     "output_type": "display_data"
    }
   ],
   "source": [
    "# generate a sample of random gaussians\n",
    "\n",
    "# seed the random number generator\n",
    "seed(1)\n",
    "# generate univariate observations\n",
    "data\n",
    "# histogram of generated data\n",
    "pyplot.hist(data, bins=100)\n",
    "pyplot.show()"
   ]
  },
  {
   "cell_type": "markdown",
   "metadata": {},
   "source": [
    "You can see, even with this controlled setup, there\n",
    " is obvious noise in the data sample. This highlights another important point: that we should\n",
    " always expect some noise or limitation in our data sample. The data sample will always contain\n",
    " errors compared to the pure underlying distribution."
   ]
  },
  {
   "cell_type": "markdown",
   "metadata": {},
   "source": [
    "### The Mean"
   ]
  },
  {
   "cell_type": "code",
   "execution_count": 10,
   "metadata": {},
   "outputs": [
    {
     "name": "stdout",
     "output_type": "stream",
     "text": [
      "3.0\n"
     ]
    }
   ],
   "source": [
    "from numpy import mean\n",
    "\n",
    "# Quiz\n",
    "# Define a list of numbers\n",
    "data = [1, 2, 3, 4, 5]\n",
    "# Calculate the mean\n",
    "result = mean(data)\n",
    "# Print the result\n",
    "print(result)"
   ]
  },
  {
   "cell_type": "code",
   "execution_count": null,
   "metadata": {},
   "outputs": [],
   "source": []
  },
  {
   "cell_type": "code",
   "execution_count": null,
   "metadata": {},
   "outputs": [],
   "source": []
  },
  {
   "cell_type": "code",
   "execution_count": null,
   "metadata": {},
   "outputs": [],
   "source": []
  },
  {
   "cell_type": "code",
   "execution_count": null,
   "metadata": {},
   "outputs": [],
   "source": []
  },
  {
   "cell_type": "code",
   "execution_count": 11,
   "metadata": {},
   "outputs": [
    {
     "name": "stdout",
     "output_type": "stream",
     "text": [
      "Mean: 3.0\n"
     ]
    }
   ],
   "source": [
    "# Define a list of numbers\n",
    "numbers = [1, 2, 3, 4, 5]\n",
    "\n",
    "# Calculate the mean\n",
    "mean = sum(numbers) / len(numbers)\n",
    "\n",
    "# Print the result\n",
    "print(\"Mean:\", mean)"
   ]
  },
  {
   "cell_type": "markdown",
   "metadata": {},
   "source": [
    " The example below demonstrates this on the test dataset developed in the previous section."
   ]
  },
  {
   "cell_type": "code",
   "execution_count": 12,
   "metadata": {},
   "outputs": [
    {
     "name": "stdout",
     "output_type": "stream",
     "text": [
      "Mean: 50.049\n"
     ]
    }
   ],
   "source": [
    " # calculate the mean of a sample\n",
    "from numpy.random import seed\n",
    "from numpy.random import randn\n",
    "from numpy import mean\n",
    "# seed the random number generator\n",
    "seed(1)\n",
    "# generate univariate observations\n",
    "data = 5 * randn(10000) + 50 # mean 50, standard deviation 5\n",
    "# calculate mean\n",
    "result = mean(data)\n",
    "print('Mean: %.3f' % result)"
   ]
  },
  {
   "cell_type": "markdown",
   "metadata": {},
   "source": [
    "As an estimate, it will contain\n",
    " errors. Because we know the underlying distribution has the true mean of 50, we can see that\n",
    " the estimate from a sample of 10,000 observations is reasonably accurate."
   ]
  },
  {
   "cell_type": "markdown",
   "metadata": {},
   "source": [
    "The mean is easily inuenced by outlier values, that is, rare values far from the mean."
   ]
  },
  {
   "cell_type": "code",
   "execution_count": 13,
   "metadata": {},
   "outputs": [
    {
     "name": "stdout",
     "output_type": "stream",
     "text": [
      "Median: 50.042\n"
     ]
    }
   ],
   "source": [
    "# calculate the median of a sample\n",
    "from numpy.random import seed\n",
    "from numpy.random import randn\n",
    "from numpy import median\n",
    "# seed the random number generator\n",
    "seed(1)\n",
    "# generate univariate observations\n",
    "data = 5 * randn(10000) + 50\n",
    "# calculate median\n",
    "result = median(data)\n",
    "print('Median: %.3f' % result)"
   ]
  },
  {
   "cell_type": "markdown",
   "metadata": {},
   "source": [
    "Running the example, we can see that median is calculated from the sample and printed.\n",
    " The result is not too dissimilar from the mean because the sample has a Gaussian distribution.\n",
    "\n",
    "\n",
    "If the data had a different (non-Gaussian) distribution, the median may be very different from\n",
    " the mean and perhaps a better reflection of the central tendency of the underlying population."
   ]
  },
  {
   "cell_type": "markdown",
   "metadata": {},
   "source": [
    "Use median when I know that I have many outliers in the data"
   ]
  },
  {
   "cell_type": "markdown",
   "metadata": {},
   "source": [
    "### The Variance"
   ]
  },
  {
   "cell_type": "code",
   "execution_count": 14,
   "metadata": {},
   "outputs": [],
   "source": [
    "from numpy import arange\n",
    "from matplotlib import pyplot\n",
    "from scipy.stats import norm"
   ]
  },
  {
   "cell_type": "code",
   "execution_count": 18,
   "metadata": {},
   "outputs": [
    {
     "data": {
      "text/plain": [
       "[<matplotlib.lines.Line2D at 0x24e78d25950>]"
      ]
     },
     "execution_count": 18,
     "metadata": {},
     "output_type": "execute_result"
    },
    {
     "data": {
      "image/png": "[encoded data removed]",
      "text/plain": [
       "<Figure size 640x480 with 1 Axes>"
      ]
     },
     "metadata": {},
     "output_type": "display_data"
    }
   ],
   "source": [
    "# generate and plot gaussians with different variance\n",
    "\n",
    "# x-axis for the plot\n",
    "x_axis = arange(-3, 3, 0.001)\n",
    "# plot low variance --blue (higher peak) less risk\n",
    "pyplot.plot(x_axis, norm.pdf(x_axis, 0, 0.5)) # mean 0, standard deviation 0.5\n",
    "# plot high variance --orange (lower peak) higher risk\n",
    "pyplot.plot(x_axis, norm.pdf(x_axis, 0, 1)) # mean 0, standard deviation 1"
   ]
  },
  {
   "cell_type": "markdown",
   "metadata": {},
   "source": [
    "Running the example plots two idealized Gaussian distributions: the blue with a low variance\n",
    " grouped around the mean and the orange with a higher variance with more spread.\n"
   ]
  },
  {
   "cell_type": "code",
   "execution_count": 20,
   "metadata": {},
   "outputs": [],
   "source": [
    "from numpy.random import seed\n",
    "from numpy.random import randn\n",
    "from numpy import var"
   ]
  },
  {
   "cell_type": "code",
   "execution_count": 21,
   "metadata": {},
   "outputs": [
    {
     "name": "stdout",
     "output_type": "stream",
     "text": [
      "Variance: 24.939\n"
     ]
    }
   ],
   "source": [
    "# calculate the variance of a sample\n",
    "\n",
    "# seed the random number generator\n",
    "seed(1)\n",
    "# generate univariate observations\n",
    "data=5*randn(10000) + 50\n",
    "# calculate variance\n",
    "result = var(data)\n",
    "print('Variance: %.3f' % result)"
   ]
  },
  {
   "cell_type": "markdown",
   "metadata": {},
   "source": [
    "### The Standard Deviation"
   ]
  },
  {
   "cell_type": "code",
   "execution_count": 22,
   "metadata": {},
   "outputs": [],
   "source": [
    "from numpy.random import seed\n",
    "from numpy.random import randn\n",
    "from numpy import std"
   ]
  },
  {
   "cell_type": "code",
   "execution_count": 23,
   "metadata": {},
   "outputs": [
    {
     "name": "stdout",
     "output_type": "stream",
     "text": [
      "Standard Deviation: 4.994\n"
     ]
    }
   ],
   "source": [
    "# calculate the standard deviation of a sample\n",
    "from numpy.random import seed\n",
    "from numpy.random import randn\n",
    "from numpy import std\n",
    "# seed the random number generator\n",
    "seed(1)\n",
    "# generate univariate observations\n",
    "data = 5 * randn(10000) + 50\n",
    "# calculate standard deviation\n",
    "result = std(data)\n",
    "print('Standard Deviation: %.3f' % result)"
   ]
  },
  {
   "cell_type": "markdown",
   "metadata": {},
   "source": [
    "Running the example calculates and prints the standard deviation of the sample. The value\n",
    " matches the square root of the variance and is very close to 5.0, the value speci ed in the\n",
    " definition of the problem."
   ]
  }
 ],
 "metadata": {
  "kernelspec": {
   "display_name": "depi_env",
   "language": "python",
   "name": "python3"
  },
  "language_info": {
   "codemirror_mode": {
    "name": "ipython",
    "version": 3
   },
   "file_extension": ".py",
   "mimetype": "text/x-python",
   "name": "python",
   "nbconvert_exporter": "python",
   "pygments_lexer": "ipython3",
   "version": "3.13.0"
  }
 },
 "nbformat": 4,
 "nbformat_minor": 2
}
