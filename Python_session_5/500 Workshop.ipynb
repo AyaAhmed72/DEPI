{
 "cells": [
  {
   "cell_type": "markdown",
   "metadata": {},
   "source": [
    "## 1. Strings:\n",
    "\n",
    "Question:\n",
    "\n",
    "\n",
    "Write a Python program that takes a sentence as input and counts the number of vowels (a, e, i, o, u) in the sentence.\n",
    "\n",
    "Example:"
   ]
  },
  {
   "cell_type": "code",
   "execution_count": 1,
   "metadata": {},
   "outputs": [],
   "source": [
    "# Input: \"Hello World\"\n",
    "# Output: 3"
   ]
  },
  {
   "cell_type": "code",
   "execution_count": null,
   "metadata": {},
   "outputs": [
    {
     "name": "stdout",
     "output_type": "stream",
     "text": [
      "Vowel found:  e\n",
      "Vowel found:  o\n",
      "Vowel found:  o\n",
      "Number of vowels:  3\n"
     ]
    }
   ],
   "source": [
    "sentence = input(\"Enter a sentence: \")\n",
    "vowels = ['a', 'e', 'i', 'o', 'u']  \n",
    "vowel_count = 0\n",
    "\n",
    "for word in sentence.split():\n",
    "    for char in word:\n",
    "        if char in vowels:\n",
    "            print(\"Vowel found: \", char)\n",
    "            vowel_count += 1\n",
    "\n",
    "print(\"Number of vowels: \", vowel_count)"
   ]
  },
  {
   "cell_type": "markdown",
   "metadata": {},
   "source": [
    "## 2. Lists:\n",
    "\n",
    "\n",
    "Question:\n",
    "\n",
    "\n",
    "Given a list of numbers [1, 3, 5, 7, 9], write a Python program to double each element in the list and store the result in a new list.\n",
    "\n",
    "Example:"
   ]
  },
  {
   "cell_type": "code",
   "execution_count": null,
   "metadata": {},
   "outputs": [],
   "source": [
    "# Original List: [1, 3, 5, 7, 9]\n",
    "# New List: [2, 6, 10, 14, 18]"
   ]
  },
  {
   "cell_type": "code",
   "execution_count": 15,
   "metadata": {},
   "outputs": [
    {
     "name": "stdout",
     "output_type": "stream",
     "text": [
      "New List:  [2, 6, 10, 14, 18]\n",
      "Original List: [1, 3, 5, 7, 9]\n",
      "New List: [2, 6, 10, 14, 18]\n"
     ]
    }
   ],
   "source": [
    "Original_List= [1, 3, 5, 7, 9]\n",
    "New_List = [1,1,1,1,1]\n",
    "for i in range(len(Original_List)):\n",
    "    New_List[i] = Original_List[i] * 2\n",
    "print(\"New List: \", New_List)\n",
    "\n",
    "original_list = [1, 3, 5, 7, 9]\n",
    "new_list = [x * 2 for x in original_list]\n",
    "print(\"Original List:\", original_list)\n",
    "print(\"New List:\", new_list)"
   ]
  },
  {
   "cell_type": "markdown",
   "metadata": {},
   "source": [
    "## 3. Sets:\n",
    "\n",
    "Question:\n",
    "\n",
    "\n",
    "Create two sets: set1 = {1, 2, 3, 4} and set2 = {3, 4, 5, 6}. Write a Python program to find the union and intersection of the two sets.\n",
    "\n",
    "Example:"
   ]
  },
  {
   "cell_type": "code",
   "execution_count": null,
   "metadata": {},
   "outputs": [],
   "source": [
    "# set1: {1, 2, 3, 4}\n",
    "# set2: {3, 4, 5, 6}\n",
    "# Union: {1, 2, 3, 4, 5, 6}\n",
    "# Intersection: {3, 4}"
   ]
  },
  {
   "cell_type": "code",
   "execution_count": 16,
   "metadata": {},
   "outputs": [
    {
     "name": "stdout",
     "output_type": "stream",
     "text": [
      "Union:  {1, 2, 3, 4, 5, 6}\n",
      "Intersection:  {3, 4}\n"
     ]
    }
   ],
   "source": [
    "set1= {1, 2, 3, 4}\n",
    "set2= {3, 4, 5, 6}\n",
    "union = set1.union(set2)\n",
    "print(\"Union: \", union)\n",
    "intersection = set1.intersection(set2)\n",
    "print(\"Intersection: \", intersection)"
   ]
  },
  {
   "cell_type": "markdown",
   "metadata": {},
   "source": [
    "## 4. Dictionaries:\n",
    "\n",
    "Question:\n",
    "\n",
    "\n",
    "Given a dictionary {'a': 1, 'b': 2, 'c': 3}, write a Python program to swap the keys and values, so the resulting dictionary becomes {1: 'a', 2: 'b', 3: 'c'}.\n",
    "\n",
    "Example:"
   ]
  },
  {
   "cell_type": "code",
   "execution_count": null,
   "metadata": {},
   "outputs": [],
   "source": [
    "# Original Dictionary: {'a': 1, 'b': 2, 'c': 3}\n",
    "# Updated Dictionary: {1: 'a', 2: 'b', 3: 'c'}"
   ]
  },
  {
   "cell_type": "code",
   "execution_count": 17,
   "metadata": {},
   "outputs": [
    {
     "name": "stdout",
     "output_type": "stream",
     "text": [
      "Updated Dictionary:  {1: 'a', 2: 'b', 3: 'c'}\n"
     ]
    }
   ],
   "source": [
    "Original_Dictionary= {'a': 1, 'b': 2, 'c': 3}\n",
    "Updated_Dictionary = {}\n",
    "for key, value in Original_Dictionary.items():\n",
    "    Updated_Dictionary[value] = key\n",
    "print(\"Updated Dictionary: \", Updated_Dictionary)"
   ]
  },
  {
   "cell_type": "markdown",
   "metadata": {},
   "source": [
    "## 5. Tuples:\n",
    "\n",
    "Question:\n",
    "\n",
    "Given a tuple (5, 10, 15, 20), write a Python program to convert it into a list, change the second element to 12, and then convert it back to a tuple.\n",
    "\n",
    "Example:"
   ]
  },
  {
   "cell_type": "code",
   "execution_count": null,
   "metadata": {},
   "outputs": [],
   "source": [
    "# Original Tuple: (5, 10, 15, 20)\n",
    "# Updated Tuple: (5, 12, 15, 20)"
   ]
  },
  {
   "cell_type": "code",
   "execution_count": 18,
   "metadata": {},
   "outputs": [
    {
     "name": "stdout",
     "output_type": "stream",
     "text": [
      "Updated Tuple:  (5, 12, 15, 20)\n"
     ]
    }
   ],
   "source": [
    "Original_Tuple= (5, 10, 15, 20)\n",
    "Tuple_list = list(Original_Tuple)\n",
    "Tuple_list[1] = 12\n",
    "Updated_Tuple=tuple(Tuple_list)\n",
    "print(\"Updated Tuple: \", Updated_Tuple)"
   ]
  },
  {
   "cell_type": "markdown",
   "metadata": {},
   "source": [
    "## 6. Functions:\n",
    "\n",
    "Question:\n",
    "\n",
    "Write a Python function named is_palindrome that takes a string as input and returns True if the string is a palindrome (reads the same forwards and backwards), and False otherwise.\n",
    "\n",
    "Example:"
   ]
  },
  {
   "cell_type": "code",
   "execution_count": null,
   "metadata": {},
   "outputs": [],
   "source": [
    "# Input: \"radar\"\n",
    "# Output: True\n",
    "\n",
    "# Input: \"hello\"\n",
    "# Output: False"
   ]
  },
  {
   "cell_type": "code",
   "execution_count": 27,
   "metadata": {},
   "outputs": [
    {
     "name": "stdout",
     "output_type": "stream",
     "text": [
      "True\n"
     ]
    }
   ],
   "source": [
    "def is_palindrome(word):\n",
    "     word=input(\"Enter a word: \")\n",
    "     if word == word[::-1]:\n",
    "        return True\n",
    "     else:\n",
    "        return False\n",
    "print(is_palindrome(word))"
   ]
  },
  {
   "cell_type": "markdown",
   "metadata": {},
   "source": [
    "## 7. Functions:\n",
    "\n",
    "Question:\n",
    "\n",
    "Write a Python function named count_occurrences that takes two arguments: a list of integers and a target integer. The function should return a dictionary where the keys are the unique integers from the list, and the values are the number of times each integer occurs in the list. Additionally, if the target integer is present in the list, the function should also include the key \"target_count\" with its value being the number of times the target integer occurs.\n"
   ]
  },
  {
   "cell_type": "code",
   "execution_count": null,
   "metadata": {},
   "outputs": [],
   "source": [
    "# Input: [1, 2, 2, 3, 4, 2, 5], target = 2\n",
    "# Output: {1: 1, 2: 3, 3: 1, 4: 1, 5: 1, 'target_count': 3}\n",
    "\n",
    "# Input: [10, 10, 20, 30], target = 25\n",
    "# Output: {10: 2, 20: 1, 30: 1}"
   ]
  },
  {
   "cell_type": "code",
   "execution_count": 30,
   "metadata": {},
   "outputs": [
    {
     "name": "stdout",
     "output_type": "stream",
     "text": [
      "{1: 1, 2: 3, 3: 1, 4: 1, 5: 1, 'target_count': 3}\n"
     ]
    }
   ],
   "source": [
    "def count_occurrences(List, target):\n",
    "    List = [1, 2, 2, 3, 4, 2, 5]\n",
    "    target = 2\n",
    "    count = {}\n",
    "    for i in List:\n",
    "        if i in count:\n",
    "            count[i] += 1\n",
    "        else:\n",
    "            count[i] = 1\n",
    "    count['target_count'] = count[target]\n",
    "    return count\n",
    "print(count_occurrences([1, 2, 2, 3, 4, 2, 5], 2))"
   ]
  },
  {
   "cell_type": "markdown",
   "metadata": {},
   "source": [
    "## 8. while loop:\n",
    "Write a Python program that uses a while loop to generate a sequence of numbers starting from 1. The loop should continue generating numbers and adding them to a list until the sum of all numbers in the list exceeds 200. After the loop, print the list of numbers and the total sum of the numbers.\n",
    "\n",
    "Example:"
   ]
  },
  {
   "cell_type": "code",
   "execution_count": 31,
   "metadata": {},
   "outputs": [
    {
     "name": "stdout",
     "output_type": "stream",
     "text": [
      "List of numbers: [1, 2, 3, 4, 5, 6, 7, 8, 9, 10, 11, 12, 13, 14, 15, 16, 17, 18, 19, 20]\n",
      "Total sum: 210\n"
     ]
    }
   ],
   "source": [
    "number_list = []\n",
    "current_number = 1\n",
    "total_sum = 0\n",
    "\n",
    "while total_sum <= 200:\n",
    "    number_list.append(current_number)\n",
    "    total_sum += current_number\n",
    "    current_number += 1\n",
    "\n",
    "print(\"List of numbers:\", number_list)\n",
    "print(\"Total sum:\", total_sum)"
   ]
  },
  {
   "cell_type": "markdown",
   "metadata": {},
   "source": [
    "## 9. Question:\n",
    "\n",
    "Write a Python function named remove_duplicates that takes a list of integers as input and returns a new list with duplicate values removed. \n",
    "\n",
    "The order of the original list should be preserved in the new list.\n",
    "\n",
    "Example:"
   ]
  },
  {
   "cell_type": "code",
   "execution_count": null,
   "metadata": {},
   "outputs": [],
   "source": [
    "# Input: [1, 2, 2, 3, 4, 4, 5]\n",
    "# Output: [1, 2, 3, 4, 5]"
   ]
  },
  {
   "cell_type": "code",
   "execution_count": 35,
   "metadata": {},
   "outputs": [
    {
     "name": "stdout",
     "output_type": "stream",
     "text": [
      "[1, 2, 3, 4, 5]\n"
     ]
    }
   ],
   "source": [
    "def remove_duplicates(List):\n",
    "    List = [1, 2, 2, 3, 4, 4, 5]\n",
    "    #converts the list to a set using set(List) \"set is a collection of unique elements to remove any duplicate values\" \n",
    "    #Then, it converts the set back to a list\n",
    "    List = list(set(List))\n",
    "    return List\n",
    "print(remove_duplicates([1, 2, 2, 3, 4, 4, 5]))"
   ]
  },
  {
   "cell_type": "markdown",
   "metadata": {},
   "source": [
    "### Explanation of the Incorrect Solution:\n",
    "\n",
    "This approach is actually correct in removing duplicates while preserving the order of the original list. The list unique_numbers is built by appending numbers that are not already in the list. It ensures that duplicates are removed while preserving the original order.\n",
    "\n",
    "\n",
    "Question:\n",
    "\n",
    "\n",
    "Is there a more efficient way to solve this problem that might improve performance, especially with larger lists? What could be a better approach?"
   ]
  },
  {
   "cell_type": "markdown",
   "metadata": {},
   "source": [
    "### Optimized Solution:\n",
    "\n",
    "Explanation:\n",
    "\n",
    "Using a set helps in quickly checking for duplicates, as set operations are average O(1) in time complexity.\n",
    "The set is used to track seen numbers, and a list is used to maintain the order of unique elements.\n",
    "#### Optimized Code:"
   ]
  },
  {
   "cell_type": "code",
   "execution_count": 21,
   "metadata": {},
   "outputs": [
    {
     "name": "stdout",
     "output_type": "stream",
     "text": [
      "[1, 2, 3, 4, 5]\n"
     ]
    }
   ],
   "source": []
  },
  {
   "cell_type": "markdown",
   "metadata": {},
   "source": [
    "#### Explanation of the Optimized Solution:\n",
    "1. Set Usage: A set called seen is used to keep track of numbers that have already been encountered. This ensures each number is only added to the unique_numbers list once.\n",
    "2. Order Preservation: The unique_numbers list maintains the order of the first occurrence of each unique number.\n",
    "3. Efficiency: The in operation on a set is more efficient than a list due to the set's hashing mechanism.\n",
    "\n",
    "\n",
    "This approach reduces the overall time complexity by avoiding multiple membership checks on the list, making it more suitable for larger datasets."
   ]
  },
  {
   "cell_type": "markdown",
   "metadata": {},
   "source": [
    "## 10. Question:\n",
    "Write a Python program that takes a list of words as input and creates a dictionary where the keys are the unique words in the list, and the values are lists containing the indices (positions) at which each word appears in the list.\n",
    "\n",
    "Expected Output:\n",
    "\n",
    "If the input list is [\"apple\", \"banana\", \"orange\", \"banana\", \"kiwi\", \"apple\"], the program should return {'apple': [0, 5], 'banana': [1, 3], 'orange': [2], 'kiwi': [4]}.\n",
    "Please write the Python code to accomplish this task."
   ]
  },
  {
   "cell_type": "code",
   "execution_count": 38,
   "metadata": {},
   "outputs": [
    {
     "name": "stdout",
     "output_type": "stream",
     "text": [
      "{'apple': [0, 5], 'banana': [1, 3], 'orange': [2], 'kiwi': [4]}\n"
     ]
    }
   ],
   "source": [
    "def create_word_index_dict(words):\n",
    "    word_index_dict = {}\n",
    "    for index, word in enumerate(words):\n",
    "        if word in word_index_dict:\n",
    "            word_index_dict[word].append(index)\n",
    "        else:\n",
    "            word_index_dict[word] = [index]\n",
    "    return word_index_dict\n",
    "\n",
    "words_list = [\"apple\", \"banana\", \"orange\", \"banana\", \"kiwi\", \"apple\"]\n",
    "result = create_word_index_dict(words_list)\n",
    "print(result)"
   ]
  }
 ],
 "metadata": {
  "kernelspec": {
   "display_name": "Python 3",
   "language": "python",
   "name": "python3"
  },
  "language_info": {
   "codemirror_mode": {
    "name": "ipython",
    "version": 3
   },
   "file_extension": ".py",
   "mimetype": "text/x-python",
   "name": "python",
   "nbconvert_exporter": "python",
   "pygments_lexer": "ipython3",
   "version": "3.12.1"
  }
 },
 "nbformat": 4,
 "nbformat_minor": 2
}
